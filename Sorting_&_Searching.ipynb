{
  "nbformat": 4,
  "nbformat_minor": 0,
  "metadata": {
    "colab": {
      "name": "Sorting & Searching.ipynb",
      "provenance": [],
      "collapsed_sections": []
    },
    "kernelspec": {
      "name": "python3",
      "display_name": "Python 3"
    }
  },
  "cells": [
    {
      "cell_type": "markdown",
      "metadata": {
        "id": "0V9FwE8ejNhS"
      },
      "source": [
        "**SORTING ALGORITHMS**\n"
      ]
    },
    {
      "cell_type": "markdown",
      "metadata": {
        "id": "Rt0rjs6FjZF6"
      },
      "source": [
        "**1. Bubble Sort**"
      ]
    },
    {
      "cell_type": "code",
      "metadata": {
        "id": "ntAwDldQUVKU"
      },
      "source": [
        "list = [25,21,22,24,23,27,26]\n",
        "\n",
        "#modifikasi sesuai angka favorit anda"
      ],
      "execution_count": 4,
      "outputs": []
    },
    {
      "cell_type": "code",
      "metadata": {
        "id": "Lh6lUQsLmMTo",
        "outputId": "e9622f97-277b-4858-90c2-b404858084ad",
        "colab": {
          "base_uri": "https://localhost:8080/"
        }
      },
      "source": [
        "#proses penukaran bubble sort\n",
        "\n",
        "lastElementIndex = len(list)-1\n",
        "print(0,list)\n",
        "for idx in range(lastElementIndex):\n",
        "                if list[idx]>list[idx+1]:\n",
        "                    list[idx],list[idx+1]=list[idx+1],list[idx]\n",
        "                print(idx+1,list)"
      ],
      "execution_count": 3,
      "outputs": [
        {
          "output_type": "stream",
          "text": [
            "0 [21, 22, 24, 23, 25, 27, 28]\n",
            "1 [21, 22, 24, 23, 25, 27, 28]\n",
            "2 [21, 22, 24, 23, 25, 27, 28]\n",
            "3 [21, 22, 23, 24, 25, 27, 28]\n",
            "4 [21, 22, 23, 24, 25, 27, 28]\n",
            "5 [21, 22, 23, 24, 25, 27, 28]\n",
            "6 [21, 22, 23, 24, 25, 27, 28]\n"
          ],
          "name": "stdout"
        }
      ]
    },
    {
      "cell_type": "code",
      "metadata": {
        "id": "-Ok6EHzInysw",
        "outputId": "03223c65-1fc1-4818-f4ec-45d7ff2b3cd5",
        "colab": {
          "base_uri": "https://localhost:8080/"
        }
      },
      "source": [
        "list"
      ],
      "execution_count": 8,
      "outputs": [
        {
          "output_type": "execute_result",
          "data": {
            "text/plain": [
              "[25, 21, 22, 24, 23, 27, 26]"
            ]
          },
          "metadata": {
            "tags": []
          },
          "execution_count": 8
        }
      ]
    },
    {
      "cell_type": "code",
      "metadata": {
        "id": "DL1SVe8mpk1E"
      },
      "source": [
        "def BubbleSort(list):\n",
        "# Excahnge the elements to arrange in order\n",
        "    lastElementIndex = len(list)-1\n",
        "    for passNo in range(lastElementIndex,0,-1):\n",
        "        for idx in range(passNo):\n",
        "            if list[idx]>list[idx+1]:\n",
        "                list[idx],list[idx+1]=list[idx+1],list[idx]\n",
        "    return list\n",
        "    "
      ],
      "execution_count": 12,
      "outputs": []
    },
    {
      "cell_type": "code",
      "metadata": {
        "id": "IKEVPVTjq99C"
      },
      "source": [
        "#masukan angka dengan urutan lainnya\n",
        "\n",
        "list = [25,21,22,24,23,27,26]"
      ],
      "execution_count": 14,
      "outputs": []
    },
    {
      "cell_type": "code",
      "metadata": {
        "id": "DtBnTxi7rJBS",
        "outputId": "9ad76653-282a-47b4-f3d7-53dc688246d7",
        "colab": {
          "base_uri": "https://localhost:8080/"
        }
      },
      "source": [
        "BubbleSort(list)"
      ],
      "execution_count": 15,
      "outputs": [
        {
          "output_type": "execute_result",
          "data": {
            "text/plain": [
              "[21, 22, 23, 24, 25, 26, 27]"
            ]
          },
          "metadata": {
            "tags": []
          },
          "execution_count": 15
        }
      ]
    },
    {
      "cell_type": "code",
      "metadata": {
        "id": "K4i7yRAorW0r",
        "outputId": "8a90e7e2-fd20-4496-d90e-061e6f153172",
        "colab": {
          "base_uri": "https://localhost:8080/"
        }
      },
      "source": [
        "list"
      ],
      "execution_count": 16,
      "outputs": [
        {
          "output_type": "execute_result",
          "data": {
            "text/plain": [
              "[21, 22, 23, 24, 25, 26, 27]"
            ]
          },
          "metadata": {
            "tags": []
          },
          "execution_count": 16
        }
      ]
    },
    {
      "cell_type": "markdown",
      "metadata": {
        "id": "xUuIx3Sfrf1O"
      },
      "source": [
        "**2. Insertion Sort**"
      ]
    },
    {
      "cell_type": "code",
      "metadata": {
        "id": "29FVI_dark-N"
      },
      "source": [
        "def InsertionSort(list):\n",
        "    for i in range(1, len(list)):\n",
        "        j = i-1\n",
        "        next = list[i]\n",
        "# Compare the current element with next one\n",
        "\n",
        "        while (list[j] > next) and (j >= 0):\n",
        "            list[j+1] = list[j]\n",
        "            j=j-1\n",
        "        list[j+1] = next\n",
        "    return list"
      ],
      "execution_count": 17,
      "outputs": []
    },
    {
      "cell_type": "code",
      "metadata": {
        "id": "lAVRYgwCs0Zs"
      },
      "source": [
        "#masukan angka dengan urutan lainnya\n",
        "\n",
        "list = [35,31,32,34,33,37,36]"
      ],
      "execution_count": 19,
      "outputs": []
    },
    {
      "cell_type": "code",
      "metadata": {
        "id": "8QN60xTGtADi",
        "outputId": "5e4d83ea-7ad7-4a76-85db-06663534a77d",
        "colab": {
          "base_uri": "https://localhost:8080/"
        }
      },
      "source": [
        "list"
      ],
      "execution_count": 20,
      "outputs": [
        {
          "output_type": "execute_result",
          "data": {
            "text/plain": [
              "[35, 31, 32, 34, 33, 37, 36]"
            ]
          },
          "metadata": {
            "tags": []
          },
          "execution_count": 20
        }
      ]
    },
    {
      "cell_type": "code",
      "metadata": {
        "id": "kAlz2AQAtCPi",
        "outputId": "28ecfc98-11d2-4fbd-e858-70641d290295",
        "colab": {
          "base_uri": "https://localhost:8080/"
        }
      },
      "source": [
        "InsertionSort(list)"
      ],
      "execution_count": 21,
      "outputs": [
        {
          "output_type": "execute_result",
          "data": {
            "text/plain": [
              "[31, 32, 33, 34, 35, 36, 37]"
            ]
          },
          "metadata": {
            "tags": []
          },
          "execution_count": 21
        }
      ]
    },
    {
      "cell_type": "code",
      "metadata": {
        "id": "j2V7SyrXtJ8b",
        "outputId": "e0fa9f9c-3b47-4b61-ad3f-fbde184c1e9a",
        "colab": {
          "base_uri": "https://localhost:8080/"
        }
      },
      "source": [
        "list"
      ],
      "execution_count": 22,
      "outputs": [
        {
          "output_type": "execute_result",
          "data": {
            "text/plain": [
              "[31, 32, 33, 34, 35, 36, 37]"
            ]
          },
          "metadata": {
            "tags": []
          },
          "execution_count": 22
        }
      ]
    },
    {
      "cell_type": "markdown",
      "metadata": {
        "id": "OQEho2W9tNVa"
      },
      "source": [
        "**3. Selection Sort**"
      ]
    },
    {
      "cell_type": "code",
      "metadata": {
        "id": "HWgnpuW6uEKY"
      },
      "source": [
        "def SelectionSort(list):\n",
        "    for fill_slot in range(len(list) -1, 0, -1):\n",
        "        max_index = 0\n",
        "        for location in range(1, fill_slot + 1):\n",
        "            if list[location] > list[max_index]:\n",
        "               max_index = location\n",
        "        list[fill_slot],list[max_index] = list[max_index],list[fill_slot]\n",
        "    return list"
      ],
      "execution_count": 27,
      "outputs": []
    },
    {
      "cell_type": "code",
      "metadata": {
        "id": "0B8ba_pHuzog",
        "outputId": "c6b119bc-12b7-4b2b-e069-9994ad48b550",
        "colab": {
          "base_uri": "https://localhost:8080/"
        }
      },
      "source": [
        "list = [70,15,25,19,34,44]\n",
        "SelectionSort(list)"
      ],
      "execution_count": 28,
      "outputs": [
        {
          "output_type": "execute_result",
          "data": {
            "text/plain": [
              "[15, 19, 25, 34, 44, 70]"
            ]
          },
          "metadata": {
            "tags": []
          },
          "execution_count": 28
        }
      ]
    },
    {
      "cell_type": "code",
      "metadata": {
        "id": "aud_AcVqvEls",
        "outputId": "c18f4839-fef2-4117-b835-cb040e0d5d93",
        "colab": {
          "base_uri": "https://localhost:8080/"
        }
      },
      "source": [
        "list"
      ],
      "execution_count": 29,
      "outputs": [
        {
          "output_type": "execute_result",
          "data": {
            "text/plain": [
              "[15, 19, 25, 34, 44, 70]"
            ]
          },
          "metadata": {
            "tags": []
          },
          "execution_count": 29
        }
      ]
    },
    {
      "cell_type": "markdown",
      "metadata": {
        "id": "0DSE0VrzvH0n"
      },
      "source": [
        "**SEARCHING ALGORITHMS**"
      ]
    },
    {
      "cell_type": "markdown",
      "metadata": {
        "id": "Xer07gUVvMJn"
      },
      "source": [
        "**1. Linear Search**"
      ]
    },
    {
      "cell_type": "code",
      "metadata": {
        "id": "LPBF19cAxYNN"
      },
      "source": [
        "def LinearSearch(list, item):\n",
        "    index = 0\n",
        "    found = False\n",
        "\n",
        "# Match the value with each data element\n",
        "    while index < len(list) and found is False:\n",
        "        if list[index] == item:\n",
        "            found = True\n",
        "        else:\n",
        "            index = index + 1\n",
        "    return found"
      ],
      "execution_count": 37,
      "outputs": []
    },
    {
      "cell_type": "code",
      "metadata": {
        "id": "S8ojzOXxzNK8",
        "outputId": "207e75c0-46bd-419a-9ba1-991b3be0ef20",
        "colab": {
          "base_uri": "https://localhost:8080/"
        }
      },
      "source": [
        "list = [12, 33, 11, 99, 22, 55, 90]\n",
        "print(LinearSearch(list, 12))\n",
        "print(LinearSearch(list, 91))"
      ],
      "execution_count": 38,
      "outputs": [
        {
          "output_type": "stream",
          "text": [
            "True\n",
            "False\n"
          ],
          "name": "stdout"
        }
      ]
    },
    {
      "cell_type": "markdown",
      "metadata": {
        "id": "9rcSwuAGzcVZ"
      },
      "source": [
        "**2. Binary Search**"
      ]
    },
    {
      "cell_type": "code",
      "metadata": {
        "id": "EXWhdU6t0vHQ"
      },
      "source": [
        "\n",
        "def BinarySearch(list, item):\n",
        "    first = 0\n",
        "    last = len(list)-1\n",
        "    found = False\n",
        "\n",
        "    while first<=last and not found:\n",
        "        midpoint = (first + last)//2\n",
        "        if list[midpoint] == item:\n",
        "            found = True\n",
        "        else:\n",
        "            if item < list[midpoint]:\n",
        "                last = midpoint-1\n",
        "            else:\n",
        "                first = midpoint+1\n",
        "    return found"
      ],
      "execution_count": 81,
      "outputs": []
    },
    {
      "cell_type": "code",
      "metadata": {
        "id": "WxoRJzG6NBSa",
        "outputId": "0a55e569-8d45-4de6-ac8a-0d985c6139ff",
        "colab": {
          "base_uri": "https://localhost:8080/"
        }
      },
      "source": [
        "list = [12,33,11,99,22,55,90]\n",
        "sorted_list = BubbleSort(list)\n",
        "print(LinearSearch(list, 55))\n",
        "print(LinearSearch(list, 30))"
      ],
      "execution_count": 83,
      "outputs": [
        {
          "output_type": "stream",
          "text": [
            "True\n",
            "False\n"
          ],
          "name": "stdout"
        }
      ]
    },
    {
      "cell_type": "markdown",
      "metadata": {
        "id": "vQwweERp-_1E"
      },
      "source": [
        "**Interpolation Search**"
      ]
    },
    {
      "cell_type": "code",
      "metadata": {
        "id": "hmcU8zcJ_FNe"
      },
      "source": [
        "def IntPolsearch(list,x ):\n",
        "    idx0 = 0\n",
        "    idxn = (len(list) - 1)\n",
        "    found = False\n",
        "    while idx0 <= idxn and x >= list[idx0] and x <= list[idxn]:\n",
        "\n",
        "# Find the mid point\n",
        "        mid = idx0 +int(((float(idxn - idx0)/(list[idxn] - list[idx0])) * (x - list[idx0])))\n",
        "\n",
        "# Compare the value at mid point with search value\n",
        "        if list[mid] == x:\n",
        "            found = True\n",
        "            return found\n",
        "        if list[mid] < x:\n",
        "            idx0 = mid + 1\n",
        "    return found "
      ],
      "execution_count": 55,
      "outputs": []
    },
    {
      "cell_type": "code",
      "metadata": {
        "id": "RFMnLMLNAkGM",
        "outputId": "bf363ba3-b16a-435b-bbfe-87f9a2104d1a",
        "colab": {
          "base_uri": "https://localhost:8080/"
        }
      },
      "source": [
        "list = [12, 33, 11, 99, 22, 55, 90]\n",
        "sorted_list = BubbleSort(list)\n",
        "print(IntPolsearch(list, 12))\n",
        "print(IntPolsearch(list,91))"
      ],
      "execution_count": 56,
      "outputs": [
        {
          "output_type": "stream",
          "text": [
            "True\n",
            "False\n"
          ],
          "name": "stdout"
        }
      ]
    }
  ]
}